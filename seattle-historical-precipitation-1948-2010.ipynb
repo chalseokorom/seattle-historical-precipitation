{
 "cells": [
  {
   "cell_type": "markdown",
   "id": "94a9af57",
   "metadata": {
    "papermill": {
     "duration": 0.004767,
     "end_time": "2025-09-27T03:59:51.761801",
     "exception": false,
     "start_time": "2025-09-27T03:59:51.757034",
     "status": "completed"
    },
    "tags": []
   },
   "source": [
    "# Did It Rain In Seattle? (1948 - 2017): Exploratory Data Analysis (EDA)\n",
    "\n",
    "Besides coffee, grunge and technology companies, one of the things that Seattle is most famous for is how often it rains. This dataset was aggregated from publicly available data on the NOAA (National Oceanic and Atmospheric Administration) website from the Seattle-Tacoma International Airport (SEA), with the following columns: \n",
    "* DATE - The date of the observation \n",
    "* RAIN - Whether it rained (True/False)\n",
    "* MIN - Minimum temperature (in F) \n",
    "* MAX - Maximum temperature (in F) \n",
    "* PRCP - Precipitation level (in inches) \n",
    "\n",
    "This dataset contains complete records of daily rainfall patterns from January 1st, 1948 to December 12, 2017. This notebook contains high-level visualizations aimed at exploratory data analysis of over 60 years of Seattle weather data."
   ]
  },
  {
   "cell_type": "markdown",
   "id": "f635ba34",
   "metadata": {
    "papermill": {
     "duration": 0.003672,
     "end_time": "2025-09-27T03:59:51.769759",
     "exception": false,
     "start_time": "2025-09-27T03:59:51.766087",
     "status": "completed"
    },
    "tags": []
   },
   "source": [
    "## Table of Contents\n",
    "\n",
    "1. [Correlation Matrix](#section1)\n",
    "2. [Max/Min Temperature Plot](#section2)\n",
    "3. [Yearly/Monthly Precipitation Plot](#section3)\n",
    "4. [Box Chart Temperature Distrubution](#section4)\n",
    "5. [Temperature Time Series](#section5)\n",
    "6. [Closing Thoughts](#section6)\n"
   ]
  },
  {
   "cell_type": "code",
   "execution_count": 1,
   "id": "4e58ce2a",
   "metadata": {
    "_kg_hide-output": true,
    "execution": {
     "iopub.execute_input": "2025-09-27T03:59:51.779016Z",
     "iopub.status.busy": "2025-09-27T03:59:51.778624Z",
     "iopub.status.idle": "2025-09-27T03:59:55.110490Z",
     "shell.execute_reply": "2025-09-27T03:59:55.109635Z"
    },
    "papermill": {
     "duration": 3.338397,
     "end_time": "2025-09-27T03:59:55.112184",
     "exception": false,
     "start_time": "2025-09-27T03:59:51.773787",
     "status": "completed"
    },
    "tags": []
   },
   "outputs": [],
   "source": [
    "import numpy as np\n",
    "import pandas as pd\n",
    "\n",
    "import plotly.express as px\n",
    "\n",
    "import plotly.io as pio\n",
    "pio.renderers.default = 'iframe'\n",
    "\n",
    "from calendar import month_abbr"
   ]
  },
  {
   "cell_type": "code",
   "execution_count": 2,
   "id": "3b181d9f",
   "metadata": {
    "execution": {
     "iopub.execute_input": "2025-09-27T03:59:55.121388Z",
     "iopub.status.busy": "2025-09-27T03:59:55.121046Z",
     "iopub.status.idle": "2025-09-27T03:59:55.208921Z",
     "shell.execute_reply": "2025-09-27T03:59:55.207649Z"
    },
    "papermill": {
     "duration": 0.094647,
     "end_time": "2025-09-27T03:59:55.210865",
     "exception": false,
     "start_time": "2025-09-27T03:59:55.116218",
     "status": "completed"
    },
    "tags": []
   },
   "outputs": [
    {
     "name": "stdout",
     "output_type": "stream",
     "text": [
      "<class 'pandas.core.frame.DataFrame'>\n",
      "RangeIndex: 25551 entries, 0 to 25550\n",
      "Data columns (total 5 columns):\n",
      " #   Column  Non-Null Count  Dtype  \n",
      "---  ------  --------------  -----  \n",
      " 0   DATE    25551 non-null  object \n",
      " 1   PRCP    25548 non-null  float64\n",
      " 2   TMAX    25551 non-null  int64  \n",
      " 3   TMIN    25551 non-null  int64  \n",
      " 4   RAIN    25548 non-null  object \n",
      "dtypes: float64(1), int64(2), object(2)\n",
      "memory usage: 998.2+ KB\n"
     ]
    }
   ],
   "source": [
    "# Read in data from file\n",
    "seattle_weather_df = pd.read_csv('/kaggle/input/did-it-rain-in-seattle-19482017/seattleWeather_1948-2017.csv')\n",
    "seattle_weather_df.info()"
   ]
  },
  {
   "cell_type": "code",
   "execution_count": 3,
   "id": "41e40d69",
   "metadata": {
    "execution": {
     "iopub.execute_input": "2025-09-27T03:59:55.220498Z",
     "iopub.status.busy": "2025-09-27T03:59:55.220140Z",
     "iopub.status.idle": "2025-09-27T03:59:55.234566Z",
     "shell.execute_reply": "2025-09-27T03:59:55.233575Z"
    },
    "papermill": {
     "duration": 0.021437,
     "end_time": "2025-09-27T03:59:55.236479",
     "exception": false,
     "start_time": "2025-09-27T03:59:55.215042",
     "status": "completed"
    },
    "tags": []
   },
   "outputs": [],
   "source": [
    "# Drop rows with null values\n",
    "seattle_weather_df.dropna(inplace = True)"
   ]
  },
  {
   "cell_type": "markdown",
   "id": "384ea8f3",
   "metadata": {
    "papermill": {
     "duration": 0.003789,
     "end_time": "2025-09-27T03:59:55.244535",
     "exception": false,
     "start_time": "2025-09-27T03:59:55.240746",
     "status": "completed"
    },
    "tags": []
   },
   "source": [
    "### Correlation Matrix <a class=\"anchor\"  id=\"section1\"></a>\n",
    "\n",
    "Right away we can see that minimum and maximum temperature are **highly** correlated. On the other hand, maximum temperature and precipitation are **somewhat negatively** correlated. Rain and precipitation, of course, are inherently intertwined."
   ]
  },
  {
   "cell_type": "code",
   "execution_count": 4,
   "id": "b94ff102",
   "metadata": {
    "execution": {
     "iopub.execute_input": "2025-09-27T03:59:55.253700Z",
     "iopub.status.busy": "2025-09-27T03:59:55.253396Z",
     "iopub.status.idle": "2025-09-27T03:59:55.748116Z",
     "shell.execute_reply": "2025-09-27T03:59:55.747237Z"
    },
    "papermill": {
     "duration": 0.501118,
     "end_time": "2025-09-27T03:59:55.749591",
     "exception": false,
     "start_time": "2025-09-27T03:59:55.248473",
     "status": "completed"
    },
    "tags": []
   },
   "outputs": [
    {
     "data": {
      "text/html": [
       "<iframe\n",
       "    scrolling=\"no\"\n",
       "    width=\"100%\"\n",
       "    height=\"370\"\n",
       "    src=\"iframe_figures/figure_4.html\"\n",
       "    frameborder=\"0\"\n",
       "    allowfullscreen\n",
       "></iframe>\n"
      ]
     },
     "metadata": {},
     "output_type": "display_data"
    }
   ],
   "source": [
    "# Is there correlation between any of the features?\n",
    "corr = seattle_weather_df.drop(columns = ['DATE']).corr().round(1)  \n",
    "\n",
    "mask = np.zeros_like(corr, dtype = bool)\n",
    "mask[np.triu_indices_from(mask)] = True\n",
    "corr = corr.mask(mask).dropna(how = 'all')\n",
    "\n",
    "# Plot correlation matrix\n",
    "fig = px.imshow(corr, text_auto = True, title = \"Correlation Matrix\", template = 'none',\n",
    "                color_continuous_scale = px.colors.qualitative.G10[0:2], height = 350)\n",
    "\n",
    "fig.show()"
   ]
  },
  {
   "cell_type": "code",
   "execution_count": 5,
   "id": "0d5fb775",
   "metadata": {
    "execution": {
     "iopub.execute_input": "2025-09-27T03:59:55.760333Z",
     "iopub.status.busy": "2025-09-27T03:59:55.760033Z",
     "iopub.status.idle": "2025-09-27T03:59:55.873864Z",
     "shell.execute_reply": "2025-09-27T03:59:55.872917Z"
    },
    "papermill": {
     "duration": 0.120441,
     "end_time": "2025-09-27T03:59:55.875404",
     "exception": false,
     "start_time": "2025-09-27T03:59:55.754963",
     "status": "completed"
    },
    "tags": []
   },
   "outputs": [
    {
     "data": {
      "text/html": [
       "<div>\n",
       "<style scoped>\n",
       "    .dataframe tbody tr th:only-of-type {\n",
       "        vertical-align: middle;\n",
       "    }\n",
       "\n",
       "    .dataframe tbody tr th {\n",
       "        vertical-align: top;\n",
       "    }\n",
       "\n",
       "    .dataframe thead th {\n",
       "        text-align: right;\n",
       "    }\n",
       "</style>\n",
       "<table border=\"1\" class=\"dataframe\">\n",
       "  <thead>\n",
       "    <tr style=\"text-align: right;\">\n",
       "      <th></th>\n",
       "      <th>count</th>\n",
       "      <th>mean</th>\n",
       "      <th>std</th>\n",
       "      <th>min</th>\n",
       "      <th>25%</th>\n",
       "      <th>50%</th>\n",
       "      <th>75%</th>\n",
       "      <th>max</th>\n",
       "    </tr>\n",
       "  </thead>\n",
       "  <tbody>\n",
       "    <tr>\n",
       "      <th>PRCP</th>\n",
       "      <td>25548.0</td>\n",
       "      <td>10.6</td>\n",
       "      <td>23.9</td>\n",
       "      <td>0.0</td>\n",
       "      <td>0.0</td>\n",
       "      <td>0.0</td>\n",
       "      <td>10.0</td>\n",
       "      <td>502.0</td>\n",
       "    </tr>\n",
       "    <tr>\n",
       "      <th>TMAX</th>\n",
       "      <td>25548.0</td>\n",
       "      <td>59.5</td>\n",
       "      <td>12.8</td>\n",
       "      <td>4.0</td>\n",
       "      <td>50.0</td>\n",
       "      <td>58.0</td>\n",
       "      <td>69.0</td>\n",
       "      <td>103.0</td>\n",
       "    </tr>\n",
       "    <tr>\n",
       "      <th>TMIN</th>\n",
       "      <td>25548.0</td>\n",
       "      <td>44.5</td>\n",
       "      <td>8.9</td>\n",
       "      <td>0.0</td>\n",
       "      <td>38.0</td>\n",
       "      <td>45.0</td>\n",
       "      <td>52.0</td>\n",
       "      <td>71.0</td>\n",
       "    </tr>\n",
       "    <tr>\n",
       "      <th>RAIN</th>\n",
       "      <td>25548.0</td>\n",
       "      <td>0.4</td>\n",
       "      <td>0.5</td>\n",
       "      <td>0.0</td>\n",
       "      <td>0.0</td>\n",
       "      <td>0.0</td>\n",
       "      <td>1.0</td>\n",
       "      <td>1.0</td>\n",
       "    </tr>\n",
       "    <tr>\n",
       "      <th>DECADE</th>\n",
       "      <td>25548.0</td>\n",
       "      <td>1978.0</td>\n",
       "      <td>20.4</td>\n",
       "      <td>1940.0</td>\n",
       "      <td>1960.0</td>\n",
       "      <td>1980.0</td>\n",
       "      <td>2000.0</td>\n",
       "      <td>2010.0</td>\n",
       "    </tr>\n",
       "    <tr>\n",
       "      <th>YEAR</th>\n",
       "      <td>25548.0</td>\n",
       "      <td>1982.5</td>\n",
       "      <td>20.2</td>\n",
       "      <td>1948.0</td>\n",
       "      <td>1965.0</td>\n",
       "      <td>1982.0</td>\n",
       "      <td>2000.0</td>\n",
       "      <td>2017.0</td>\n",
       "    </tr>\n",
       "    <tr>\n",
       "      <th>MONTH</th>\n",
       "      <td>25548.0</td>\n",
       "      <td>6.5</td>\n",
       "      <td>3.4</td>\n",
       "      <td>1.0</td>\n",
       "      <td>4.0</td>\n",
       "      <td>7.0</td>\n",
       "      <td>10.0</td>\n",
       "      <td>12.0</td>\n",
       "    </tr>\n",
       "    <tr>\n",
       "      <th>TAVG</th>\n",
       "      <td>25548.0</td>\n",
       "      <td>52.0</td>\n",
       "      <td>10.5</td>\n",
       "      <td>10.0</td>\n",
       "      <td>44.4</td>\n",
       "      <td>51.5</td>\n",
       "      <td>60.5</td>\n",
       "      <td>87.0</td>\n",
       "    </tr>\n",
       "  </tbody>\n",
       "</table>\n",
       "</div>"
      ],
      "text/plain": [
       "          count    mean   std     min     25%     50%     75%     max\n",
       "PRCP    25548.0    10.6  23.9     0.0     0.0     0.0    10.0   502.0\n",
       "TMAX    25548.0    59.5  12.8     4.0    50.0    58.0    69.0   103.0\n",
       "TMIN    25548.0    44.5   8.9     0.0    38.0    45.0    52.0    71.0\n",
       "RAIN    25548.0     0.4   0.5     0.0     0.0     0.0     1.0     1.0\n",
       "DECADE  25548.0  1978.0  20.4  1940.0  1960.0  1980.0  2000.0  2010.0\n",
       "YEAR    25548.0  1982.5  20.2  1948.0  1965.0  1982.0  2000.0  2017.0\n",
       "MONTH   25548.0     6.5   3.4     1.0     4.0     7.0    10.0    12.0\n",
       "TAVG    25548.0    52.0  10.5    10.0    44.4    51.5    60.5    87.0"
      ]
     },
     "execution_count": 5,
     "metadata": {},
     "output_type": "execute_result"
    }
   ],
   "source": [
    "# Data pre-processing\n",
    "\n",
    "# Time features - adding decade, year, and month\n",
    "seattle_weather_df['DECADE'] = seattle_weather_df.DATE.apply(lambda x: int(x[0:3] + '0'))\n",
    "seattle_weather_df['YEAR'] = pd.to_datetime(seattle_weather_df.DATE).dt.year\n",
    "seattle_weather_df['MONTH'] = pd.to_datetime(seattle_weather_df.DATE).dt.month\n",
    "\n",
    "# Temperature features - adding temperature average measurement\n",
    "seattle_weather_df['TAVG'] = np.divide(np.add(seattle_weather_df.TMAX, seattle_weather_df.TMIN), 2)\n",
    "\n",
    "# Rain features - cleaning features\n",
    "seattle_weather_df['RAIN'] = seattle_weather_df.RAIN.apply(lambda d: 1 if d == True else 0)\n",
    "seattle_weather_df['PRCP'] = seattle_weather_df.PRCP.apply(lambda p: round(p * 100, 2))\n",
    "\n",
    "# Summarize new shape of data\n",
    "seattle_weather_df.describe().round(1).T"
   ]
  },
  {
   "cell_type": "markdown",
   "id": "07457b51",
   "metadata": {
    "papermill": {
     "duration": 0.004124,
     "end_time": "2025-09-27T03:59:55.885072",
     "exception": false,
     "start_time": "2025-09-27T03:59:55.880948",
     "status": "completed"
    },
    "tags": []
   },
   "source": [
    "### Max/Min Temperature Plot <a class=\"anchor\"  id=\"section2\"></a>\n",
    "\n",
    "Earlier years are colder on average, and later years are hotter on average. The coldest year appears to be 1955, and the hottest 2015. There are a couple of outlier years that don't seem to match the postive trend of year and temperature:\n",
    "* 1985 - colder than expected\n",
    "* 1958 & 1967 - hotter than expected\n",
    "\n",
    "Finally, weather extremes (or outliers) align with [well-documented weather events](https://en.wikipedia.org/wiki/Climate_of_Seattle#Precipitation) such as blizzards or floods."
   ]
  },
  {
   "cell_type": "code",
   "execution_count": 6,
   "id": "c09b4f17",
   "metadata": {
    "execution": {
     "iopub.execute_input": "2025-09-27T03:59:55.895067Z",
     "iopub.status.busy": "2025-09-27T03:59:55.894761Z",
     "iopub.status.idle": "2025-09-27T03:59:55.914188Z",
     "shell.execute_reply": "2025-09-27T03:59:55.913399Z"
    },
    "papermill": {
     "duration": 0.02623,
     "end_time": "2025-09-27T03:59:55.915588",
     "exception": false,
     "start_time": "2025-09-27T03:59:55.889358",
     "status": "completed"
    },
    "tags": []
   },
   "outputs": [
    {
     "data": {
      "text/html": [
       "<div>\n",
       "<style scoped>\n",
       "    .dataframe tbody tr th:only-of-type {\n",
       "        vertical-align: middle;\n",
       "    }\n",
       "\n",
       "    .dataframe tbody tr th {\n",
       "        vertical-align: top;\n",
       "    }\n",
       "\n",
       "    .dataframe thead th {\n",
       "        text-align: right;\n",
       "    }\n",
       "</style>\n",
       "<table border=\"1\" class=\"dataframe\">\n",
       "  <thead>\n",
       "    <tr style=\"text-align: right;\">\n",
       "      <th></th>\n",
       "      <th>YEAR</th>\n",
       "      <th>PRCP</th>\n",
       "      <th>TMAX</th>\n",
       "      <th>TMIN</th>\n",
       "      <th>RAIN</th>\n",
       "      <th>DECADE</th>\n",
       "      <th>MONTH</th>\n",
       "      <th>TAVG</th>\n",
       "    </tr>\n",
       "  </thead>\n",
       "  <tbody>\n",
       "    <tr>\n",
       "      <th>0</th>\n",
       "      <td>1948</td>\n",
       "      <td>12.51</td>\n",
       "      <td>57.01</td>\n",
       "      <td>41.20</td>\n",
       "      <td>0.48</td>\n",
       "      <td>1940</td>\n",
       "      <td>6.51</td>\n",
       "      <td>49.11</td>\n",
       "    </tr>\n",
       "    <tr>\n",
       "      <th>1</th>\n",
       "      <td>1949</td>\n",
       "      <td>8.89</td>\n",
       "      <td>59.15</td>\n",
       "      <td>41.39</td>\n",
       "      <td>0.38</td>\n",
       "      <td>1940</td>\n",
       "      <td>6.53</td>\n",
       "      <td>50.27</td>\n",
       "    </tr>\n",
       "    <tr>\n",
       "      <th>2</th>\n",
       "      <td>1950</td>\n",
       "      <td>15.11</td>\n",
       "      <td>57.04</td>\n",
       "      <td>41.00</td>\n",
       "      <td>0.53</td>\n",
       "      <td>1950</td>\n",
       "      <td>6.53</td>\n",
       "      <td>49.02</td>\n",
       "    </tr>\n",
       "    <tr>\n",
       "      <th>3</th>\n",
       "      <td>1951</td>\n",
       "      <td>11.04</td>\n",
       "      <td>58.55</td>\n",
       "      <td>41.05</td>\n",
       "      <td>0.41</td>\n",
       "      <td>1950</td>\n",
       "      <td>6.53</td>\n",
       "      <td>49.80</td>\n",
       "    </tr>\n",
       "    <tr>\n",
       "      <th>4</th>\n",
       "      <td>1952</td>\n",
       "      <td>6.50</td>\n",
       "      <td>58.74</td>\n",
       "      <td>41.47</td>\n",
       "      <td>0.38</td>\n",
       "      <td>1950</td>\n",
       "      <td>6.51</td>\n",
       "      <td>50.11</td>\n",
       "    </tr>\n",
       "  </tbody>\n",
       "</table>\n",
       "</div>"
      ],
      "text/plain": [
       "   YEAR   PRCP   TMAX   TMIN  RAIN  DECADE  MONTH   TAVG\n",
       "0  1948  12.51  57.01  41.20  0.48    1940   6.51  49.11\n",
       "1  1949   8.89  59.15  41.39  0.38    1940   6.53  50.27\n",
       "2  1950  15.11  57.04  41.00  0.53    1950   6.53  49.02\n",
       "3  1951  11.04  58.55  41.05  0.41    1950   6.53  49.80\n",
       "4  1952   6.50  58.74  41.47  0.38    1950   6.51  50.11"
      ]
     },
     "execution_count": 6,
     "metadata": {},
     "output_type": "execute_result"
    }
   ],
   "source": [
    "# Get yearly averages of weather data\n",
    "yearly_weather_df = seattle_weather_df.groupby('YEAR').mean(numeric_only = True)\n",
    "yearly_weather_df = yearly_weather_df.round(2)\n",
    "\n",
    "yearly_weather_df.DECADE = yearly_weather_df.DECADE.astype('int')\n",
    "yearly_weather_df.reset_index('YEAR', inplace = True)\n",
    "\n",
    "# Show yearly_weather_df data\n",
    "yearly_weather_df.head()"
   ]
  },
  {
   "cell_type": "code",
   "execution_count": 7,
   "id": "085b6e46",
   "metadata": {
    "execution": {
     "iopub.execute_input": "2025-09-27T03:59:55.926795Z",
     "iopub.status.busy": "2025-09-27T03:59:55.925849Z",
     "iopub.status.idle": "2025-09-27T03:59:59.635696Z",
     "shell.execute_reply": "2025-09-27T03:59:59.634770Z"
    },
    "papermill": {
     "duration": 3.716719,
     "end_time": "2025-09-27T03:59:59.637052",
     "exception": false,
     "start_time": "2025-09-27T03:59:55.920333",
     "status": "completed"
    },
    "tags": []
   },
   "outputs": [
    {
     "data": {
      "text/html": [
       "<iframe\n",
       "    scrolling=\"no\"\n",
       "    width=\"100%\"\n",
       "    height=\"545px\"\n",
       "    src=\"iframe_figures/figure_7.html\"\n",
       "    frameborder=\"0\"\n",
       "    allowfullscreen\n",
       "></iframe>\n"
      ]
     },
     "metadata": {},
     "output_type": "display_data"
    }
   ],
   "source": [
    "# Plot bubble chart max/min temperature trend\n",
    "fig1 = px.scatter(yearly_weather_df, x = 'TMAX', y = 'TMIN', trendline = 'ols', template = 'none',\n",
    "            title = \"Annual Average Min & Max Temperature, 1948 - 2017\", size = 'PRCP', color = 'YEAR', \n",
    "                  color_continuous_scale = px.colors.qualitative.G10[5:7])\n",
    "\n",
    "fig1.update_layout(xaxis = dict(title = 'TMIN (F)'), yaxis = dict(title = 'TMAX (F)'))\n",
    "\n",
    "fig1.show()"
   ]
  },
  {
   "cell_type": "markdown",
   "id": "f49f9c1e",
   "metadata": {
    "papermill": {
     "duration": 0.004235,
     "end_time": "2025-09-27T03:59:59.645941",
     "exception": false,
     "start_time": "2025-09-27T03:59:59.641706",
     "status": "completed"
    },
    "tags": []
   },
   "source": [
    "### Yearly/Monthly Precipitation Plot <a class=\"anchor\"  id=\"section3\"></a>\n",
    "There doesn't appear to be a trend with yearly precipitation levels, but there are a few years that have a lot less rain than the other years, on average. There also tends to be lower levels of precipitation during the middle of the year (primarily summer months).\n",
    "\n",
    "Some of the higher precipitation levels may be due to weather events such as significant flooding, heavy rain or snowfall. For example:\n",
    "* On October 20, 2003, Seattle recieved 5 inches of rainfall at once.\n",
    "* Seattle flooded in November of 2006 due to several days of heavy rainfall."
   ]
  },
  {
   "cell_type": "code",
   "execution_count": 8,
   "id": "cd82f31e",
   "metadata": {
    "execution": {
     "iopub.execute_input": "2025-09-27T03:59:59.656689Z",
     "iopub.status.busy": "2025-09-27T03:59:59.655372Z",
     "iopub.status.idle": "2025-09-27T03:59:59.665784Z",
     "shell.execute_reply": "2025-09-27T03:59:59.664871Z"
    },
    "papermill": {
     "duration": 0.017056,
     "end_time": "2025-09-27T03:59:59.667220",
     "exception": false,
     "start_time": "2025-09-27T03:59:59.650164",
     "status": "completed"
    },
    "tags": []
   },
   "outputs": [
    {
     "data": {
      "text/plain": [
       "MONTH\n",
       "1    39723.0\n",
       "2    28290.0\n",
       "3    27768.0\n",
       "4    18586.0\n",
       "5    12695.0\n",
       "Name: PRCP, dtype: float64"
      ]
     },
     "execution_count": 8,
     "metadata": {},
     "output_type": "execute_result"
    }
   ],
   "source": [
    "# Get monthly sums of precipitation data\n",
    "monthly_prcp = seattle_weather_df.groupby('MONTH').PRCP.sum()\n",
    "monthly_prcp.head()"
   ]
  },
  {
   "cell_type": "code",
   "execution_count": 9,
   "id": "d207f8ac",
   "metadata": {
    "execution": {
     "iopub.execute_input": "2025-09-27T03:59:59.677913Z",
     "iopub.status.busy": "2025-09-27T03:59:59.677611Z",
     "iopub.status.idle": "2025-09-27T03:59:59.806933Z",
     "shell.execute_reply": "2025-09-27T03:59:59.805855Z"
    },
    "papermill": {
     "duration": 0.136673,
     "end_time": "2025-09-27T03:59:59.808720",
     "exception": false,
     "start_time": "2025-09-27T03:59:59.672047",
     "status": "completed"
    },
    "tags": []
   },
   "outputs": [
    {
     "data": {
      "text/html": [
       "<iframe\n",
       "    scrolling=\"no\"\n",
       "    width=\"100%\"\n",
       "    height=\"545px\"\n",
       "    src=\"iframe_figures/figure_9.html\"\n",
       "    frameborder=\"0\"\n",
       "    allowfullscreen\n",
       "></iframe>\n"
      ]
     },
     "metadata": {},
     "output_type": "display_data"
    }
   ],
   "source": [
    "# Retrieve months of year for plot x-axis labels\n",
    "month_dict = dict(zip(list(range(13)), month_abbr))\n",
    "\n",
    "# Plot average monthly precipitation\n",
    "fig2 = px.bar(monthly_prcp, x = monthly_prcp.index, y = 'PRCP', template = 'none', \n",
    "              title = \"Monthly Precipitation Sum\", color_discrete_sequence = px.colors.qualitative.G10)\n",
    "\n",
    "fig2.update_layout(xaxis = dict(title = 'MONTH', labelalias = month_dict), yaxis = dict(title = 'PRCP (inches)'))\n",
    "\n",
    "fig2.show()"
   ]
  },
  {
   "cell_type": "code",
   "execution_count": 10,
   "id": "3bad2ebc",
   "metadata": {
    "execution": {
     "iopub.execute_input": "2025-09-27T03:59:59.819482Z",
     "iopub.status.busy": "2025-09-27T03:59:59.819156Z",
     "iopub.status.idle": "2025-09-27T03:59:59.827603Z",
     "shell.execute_reply": "2025-09-27T03:59:59.826895Z"
    },
    "papermill": {
     "duration": 0.01519,
     "end_time": "2025-09-27T03:59:59.828918",
     "exception": false,
     "start_time": "2025-09-27T03:59:59.813728",
     "status": "completed"
    },
    "tags": []
   },
   "outputs": [
    {
     "data": {
      "text/plain": [
       "YEAR\n",
       "1948    4579.0\n",
       "1949    3246.0\n",
       "1950    5514.0\n",
       "1951    4030.0\n",
       "1952    2378.0\n",
       "Name: PRCP, dtype: float64"
      ]
     },
     "execution_count": 10,
     "metadata": {},
     "output_type": "execute_result"
    }
   ],
   "source": [
    "# Calculate yearly sums of precipitation data\n",
    "yearly_prcp = seattle_weather_df.groupby('YEAR').PRCP.sum()\n",
    "yearly_prcp.head()"
   ]
  },
  {
   "cell_type": "code",
   "execution_count": 11,
   "id": "3a5194c8",
   "metadata": {
    "execution": {
     "iopub.execute_input": "2025-09-27T03:59:59.839782Z",
     "iopub.status.busy": "2025-09-27T03:59:59.839447Z",
     "iopub.status.idle": "2025-09-27T03:59:59.917164Z",
     "shell.execute_reply": "2025-09-27T03:59:59.916390Z"
    },
    "papermill": {
     "duration": 0.084976,
     "end_time": "2025-09-27T03:59:59.918641",
     "exception": false,
     "start_time": "2025-09-27T03:59:59.833665",
     "status": "completed"
    },
    "tags": []
   },
   "outputs": [
    {
     "data": {
      "text/html": [
       "<iframe\n",
       "    scrolling=\"no\"\n",
       "    width=\"100%\"\n",
       "    height=\"545px\"\n",
       "    src=\"iframe_figures/figure_11.html\"\n",
       "    frameborder=\"0\"\n",
       "    allowfullscreen\n",
       "></iframe>\n"
      ]
     },
     "metadata": {},
     "output_type": "display_data"
    }
   ],
   "source": [
    "# Plot average yearly precipitation\n",
    "fig3 = px.bar(yearly_prcp, x = yearly_prcp.index, y = 'PRCP', template = 'none', \n",
    "              title = \"Annual Precipitation Sum\", color_discrete_sequence = px.colors.qualitative.G10)\n",
    "\n",
    "fig3.update_layout(yaxis = dict(title = 'PRCP (inches)'))\n",
    "\n",
    "fig3.show()"
   ]
  },
  {
   "cell_type": "markdown",
   "id": "82bb8cf0",
   "metadata": {
    "papermill": {
     "duration": 0.004799,
     "end_time": "2025-09-27T03:59:59.928491",
     "exception": false,
     "start_time": "2025-09-27T03:59:59.923692",
     "status": "completed"
    },
    "tags": []
   },
   "source": [
    "### Box Chart Temperature Distrubution <a class=\"anchor\"  id=\"section4\"></a>\n",
    "\n",
    "As expected, higher temperatures occur in summer months and decrease in fall and winter months. Thus, it may be helpful to plot how monthly temperature changes over the year to get a more granular view of the data. Additionally, across the 30-year gaps, all months but December show a general positive trend in temperature.\n",
    "\n",
    "**NOTE:** The 30-year gap for the plot was chosen because the 1940 decade of the dataset contains 2 years and the 2010s decade contains 7 years. This leaves 6 decades to split and examine for a more balanced analysis with an equal count of data points."
   ]
  },
  {
   "cell_type": "code",
   "execution_count": 12,
   "id": "274d0dc2",
   "metadata": {
    "_kg_hide-output": true,
    "execution": {
     "iopub.execute_input": "2025-09-27T03:59:59.939624Z",
     "iopub.status.busy": "2025-09-27T03:59:59.939280Z",
     "iopub.status.idle": "2025-09-27T04:00:00.086605Z",
     "shell.execute_reply": "2025-09-27T04:00:00.085659Z"
    },
    "papermill": {
     "duration": 0.154902,
     "end_time": "2025-09-27T04:00:00.088166",
     "exception": false,
     "start_time": "2025-09-27T03:59:59.933264",
     "status": "completed"
    },
    "tags": []
   },
   "outputs": [
    {
     "data": {
      "text/html": [
       "<iframe\n",
       "    scrolling=\"no\"\n",
       "    width=\"100%\"\n",
       "    height=\"545px\"\n",
       "    src=\"iframe_figures/figure_12.html\"\n",
       "    frameborder=\"0\"\n",
       "    allowfullscreen\n",
       "></iframe>\n"
      ]
     },
     "metadata": {},
     "output_type": "display_data"
    }
   ],
   "source": [
    "# Filter data to observations dated within the 1950s, 1980s, and 2010s \n",
    "three_decades_df = seattle_weather_df[seattle_weather_df.DECADE.isin([1950, 1980, 2010])]\n",
    "\n",
    "# Plot box chart of 30-year monthly temperature differences\n",
    "fig4 = px.box(three_decades_df, x = 'MONTH', y = 'TAVG', hover_data = 'YEAR', color = 'DECADE', \n",
    "              template = 'none', color_discrete_sequence = px.colors.qualitative.G10[3:6])\n",
    "\n",
    "fig4.update_layout(title = \"Decade Monthly Temperature: 1950s vs 1980s vs 2010s\",\n",
    "                   xaxis = dict(title = 'MONTH', labelalias = month_dict), \n",
    "                   yaxis = dict(title = 'TEMP (F)'))\n",
    "\n",
    "fig4.show()"
   ]
  },
  {
   "cell_type": "markdown",
   "id": "7e61a3da",
   "metadata": {
    "papermill": {
     "duration": 0.004595,
     "end_time": "2025-09-27T04:00:00.097879",
     "exception": false,
     "start_time": "2025-09-27T04:00:00.093284",
     "status": "completed"
    },
    "tags": []
   },
   "source": [
    "### Temperature Time Series <a class=\"anchor\"  id=\"section5\"></a>\n",
    "As expected, the temperature trend is positive. In 1955 and 1958, the average temperture was especially low, with the opposite being true for 2015. While the annual temperature range can change by over 10+ degrees year-to-year in many year-to-year instances, the general trend is about -4% -- a very minimal negative trend.\n",
    "\n",
    "**Note:** 'TVAR' is a measurement used by meteorologists, climatologists, and environmental scientists to understand the [variability of temperature over a year](http://https://iaspoint.com/annual-temperature-range/) within a specific geographic area. This means that a place with a high annual temperature range experiences more extreme fluctuations between seasons, while smaller ranges indicate more consistent temperatures throughout the year."
   ]
  },
  {
   "cell_type": "code",
   "execution_count": 13,
   "id": "4b788200",
   "metadata": {
    "_kg_hide-input": false,
    "_kg_hide-output": false,
    "execution": {
     "iopub.execute_input": "2025-09-27T04:00:00.108511Z",
     "iopub.status.busy": "2025-09-27T04:00:00.108183Z",
     "iopub.status.idle": "2025-09-27T04:00:00.314914Z",
     "shell.execute_reply": "2025-09-27T04:00:00.314154Z"
    },
    "papermill": {
     "duration": 0.213759,
     "end_time": "2025-09-27T04:00:00.316432",
     "exception": false,
     "start_time": "2025-09-27T04:00:00.102673",
     "status": "completed"
    },
    "tags": []
   },
   "outputs": [
    {
     "data": {
      "text/html": [
       "<iframe\n",
       "    scrolling=\"no\"\n",
       "    width=\"100%\"\n",
       "    height=\"545px\"\n",
       "    src=\"iframe_figures/figure_13.html\"\n",
       "    frameborder=\"0\"\n",
       "    allowfullscreen\n",
       "></iframe>\n"
      ]
     },
     "metadata": {},
     "output_type": "display_data"
    }
   ],
   "source": [
    "# Plot average temperature trend\n",
    "fig5 = px.scatter(yearly_weather_df, x = 'YEAR', y = 'TAVG', trendline = 'ols', template = 'none',\n",
    "                  color_discrete_sequence = px.colors.qualitative.G10, title = \"Annual Temperature Trend\")\n",
    "\n",
    "fig5.data[-1].line.color = px.colors.qualitative.G10[1]\n",
    "fig5.update_layout(yaxis = dict(title = 'TEMP (F)'))\n",
    "fig5.update_traces(mode = 'lines')\n",
    "\n",
    "fig5.show()"
   ]
  },
  {
   "cell_type": "code",
   "execution_count": 14,
   "id": "aa1440d4",
   "metadata": {
    "execution": {
     "iopub.execute_input": "2025-09-27T04:00:00.327947Z",
     "iopub.status.busy": "2025-09-27T04:00:00.327619Z",
     "iopub.status.idle": "2025-09-27T04:00:00.363393Z",
     "shell.execute_reply": "2025-09-27T04:00:00.362515Z"
    },
    "papermill": {
     "duration": 0.043222,
     "end_time": "2025-09-27T04:00:00.364957",
     "exception": false,
     "start_time": "2025-09-27T04:00:00.321735",
     "status": "completed"
    },
    "tags": []
   },
   "outputs": [
    {
     "data": {
      "text/plain": [
       "YEAR\n",
       "1948    72\n",
       "1949    80\n",
       "1950    86\n",
       "1951    94\n",
       "1952    82\n",
       "Name: TVAR, dtype: int64"
      ]
     },
     "execution_count": 14,
     "metadata": {},
     "output_type": "execute_result"
    }
   ],
   "source": [
    "temp_var_df = seattle_weather_df.groupby('YEAR').max()[['TMIN', 'TMAX']]\n",
    "\n",
    "temp_var_df['TMIN'] = seattle_weather_df.groupby('YEAR').min().TMIN\n",
    "temp_var_df['TVAR'] = temp_var_df.TMAX - temp_var_df.TMIN\n",
    "temp_var_df = temp_var_df.TVAR\n",
    "\n",
    "temp_var_df.head()"
   ]
  },
  {
   "cell_type": "code",
   "execution_count": 15,
   "id": "c12c5444",
   "metadata": {
    "execution": {
     "iopub.execute_input": "2025-09-27T04:00:00.376440Z",
     "iopub.status.busy": "2025-09-27T04:00:00.376102Z",
     "iopub.status.idle": "2025-09-27T04:00:00.459056Z",
     "shell.execute_reply": "2025-09-27T04:00:00.458214Z"
    },
    "papermill": {
     "duration": 0.090415,
     "end_time": "2025-09-27T04:00:00.460577",
     "exception": false,
     "start_time": "2025-09-27T04:00:00.370162",
     "status": "completed"
    },
    "tags": []
   },
   "outputs": [
    {
     "data": {
      "text/html": [
       "<iframe\n",
       "    scrolling=\"no\"\n",
       "    width=\"100%\"\n",
       "    height=\"545px\"\n",
       "    src=\"iframe_figures/figure_15.html\"\n",
       "    frameborder=\"0\"\n",
       "    allowfullscreen\n",
       "></iframe>\n"
      ]
     },
     "metadata": {},
     "output_type": "display_data"
    }
   ],
   "source": [
    "# Plot average temperature range trend\n",
    "fig6 = px.scatter(temp_var_df, x = temp_var_df.index, y = 'TVAR', trendline ='ols', template = 'none',\n",
    "                  color_discrete_sequence = px.colors.qualitative.G10, labels = {'TVAR': \n",
    "                    'RANGE (F)'}, title = \"Annual Temperature Range (ATR) Trend\")\n",
    "\n",
    "fig6.data[-1].line.color = px.colors.qualitative.G10[1]\n",
    "fig6.update_layout(yaxis = dict(title = 'TEMP (F)'))\n",
    "fig6.update_traces(mode = 'lines')\n",
    "\n",
    "fig6.show()"
   ]
  },
  {
   "cell_type": "markdown",
   "id": "5f48791c",
   "metadata": {
    "papermill": {
     "duration": 0.004832,
     "end_time": "2025-09-27T04:00:00.470872",
     "exception": false,
     "start_time": "2025-09-27T04:00:00.466040",
     "status": "completed"
    },
    "tags": []
   },
   "source": [
    "### Closing Thoughts <a class=\"anchor\"  id=\"section6\"></a>\n",
    "\n",
    "Seattle is known for being rainy, and while that's true, the data shows that most of the rain happens in the winter, with much less in the summer. This suggests that while the total amount of rain might seem constant, its timing is not. People living in Seattle could be experiencing a more concentrated wet season and drier summers than they did in the past. In fact, Seattle isn't even in the top 5 [raniest U.S. cities](https://www.weatherstationadvisor.com/rainiest-city-in-the-us/)!\n",
    "\n",
    "In summary, these discoveries don't just help us understand Seattle's climate; they also suggest taking a closer look at how these changing weather patterns may affect important parts of the city. Thus, this analysis could serve as a foundation for more advanced work. For example, this data could be used to create a predictive model that forecasts future weather patterns with greater accuracy. Or by linking weather data with information such as local crop yields, energy consumption, or public health incidents, we can move our analysis beyond simple description and start actively preparing for the future."
   ]
  }
 ],
 "metadata": {
  "kaggle": {
   "accelerator": "none",
   "dataSources": [
    {
     "datasetId": 7531,
     "sourceId": 10709,
     "sourceType": "datasetVersion"
    }
   ],
   "isGpuEnabled": false,
   "isInternetEnabled": true,
   "language": "python",
   "sourceType": "notebook"
  },
  "kernelspec": {
   "display_name": "Python 3",
   "language": "python",
   "name": "python3"
  },
  "language_info": {
   "codemirror_mode": {
    "name": "ipython",
    "version": 3
   },
   "file_extension": ".py",
   "mimetype": "text/x-python",
   "name": "python",
   "nbconvert_exporter": "python",
   "pygments_lexer": "ipython3",
   "version": "3.11.13"
  },
  "papermill": {
   "default_parameters": {},
   "duration": 14.870787,
   "end_time": "2025-09-27T04:00:01.296637",
   "environment_variables": {},
   "exception": null,
   "input_path": "__notebook__.ipynb",
   "output_path": "__notebook__.ipynb",
   "parameters": {},
   "start_time": "2025-09-27T03:59:46.425850",
   "version": "2.6.0"
  }
 },
 "nbformat": 4,
 "nbformat_minor": 5
}
